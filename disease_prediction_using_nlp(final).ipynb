{
  "metadata": {
    "kernelspec": {
      "language": "python",
      "display_name": "Python 3",
      "name": "python3"
    },
    "language_info": {
      "name": "python",
      "version": "3.10.12",
      "mimetype": "text/x-python",
      "codemirror_mode": {
        "name": "ipython",
        "version": 3
      },
      "pygments_lexer": "ipython3",
      "nbconvert_exporter": "python",
      "file_extension": ".py"
    },
    "kaggle": {
      "accelerator": "gpu",
      "dataSources": [
        {
          "sourceId": 5312008,
          "sourceType": "datasetVersion",
          "datasetId": 3087304
        },
        {
          "sourceId": 2610,
          "sourceType": "modelInstanceVersion",
          "modelInstanceId": 1893
        },
        {
          "sourceId": 2938,
          "sourceType": "modelInstanceVersion",
          "modelInstanceId": 2180
        }
      ],
      "dockerImageVersionId": 30616,
      "isInternetEnabled": true,
      "language": "python",
      "sourceType": "notebook",
      "isGpuEnabled": true
    },
    "colab": {
      "provenance": []
    }
  },
  "nbformat_minor": 0,
  "nbformat": 4,
  "cells": [
    {
      "cell_type": "markdown",
      "source": [
        "# Disease Predictor\n",
        "\n",
        "This notebook implements a Multi-Label Text Classification model using Bert Preprocessor and Bert Encoders. The model in question will predict the disease a certain individiual may have based on the symptoms that he/she enters in text form."
      ],
      "metadata": {
        "id": "gVq7oH17kLj-"
      }
    },
    {
      "cell_type": "markdown",
      "source": [
        "# Importing Libraries\n",
        "\n",
        "We are importing the required libraries now for preprocessing our data, building our model and saving our prediction classes.\n",
        "\n",
        "TensorFlow (import tensorflow as tf): TensorFlow is an open-source machine learning library. It provides a comprehensive set of tools for building and deploying machine learning models. The tf alias is commonly used for convenience.\n",
        "\n",
        "TensorFlow Hub (import tensorflow_hub as hub): TensorFlow Hub is a library for reusable machine learning modules. It allows you to share and reuse pre-trained models or model components. The hub alias is commonly used for convenience.\n",
        "\n",
        "TensorFlow Text (import tensorflow_text as text): TensorFlow Text is an extension of TensorFlow that provides text processing capabilities, including preprocessing and tokenization for natural language processing (NLP) tasks.\n",
        "\n",
        "Pandas (import pandas as pd): Pandas is a powerful data manipulation and analysis library for Python. It provides data structures like DataFrames, which are useful for handling and analyzing structured data.\n",
        "\n",
        "Scikit-learn preprocessing (import sklearn.preprocessing): Scikit-learn is a machine learning library for various tasks, and sklearn.preprocessing provides functions for preprocessing data, such as scaling and encoding.\n",
        "\n",
        "JSON (import json): JSON (JavaScript Object Notation) is a lightweight data interchange format. The json module in Python is used for encoding and decoding JSON data.\n",
        "\n",
        "Warnings (import warnings): The warnings module is used to handle warning messages in Python. It allows you to control whether warnings are shown, ignore them, or turn them into exceptions."
      ],
      "metadata": {
        "id": "WF7M3lX3kLkA"
      }
    },
    {
      "cell_type": "code",
      "source": [
        "import tensorflow as tf\n",
        "import tensorflow_hub as hub\n",
        "import tensorflow_text as text\n",
        "import pandas as pd\n",
        "import sklearn.preprocessing\n",
        "import json\n",
        "import warnings"
      ],
      "metadata": {
        "_uuid": "8f2839f25d086af736a60e9eeb907d3b93b6e0e5",
        "_cell_guid": "b1076dfc-b9ad-4769-8c92-a6c4dae69d19",
        "execution": {
          "iopub.status.busy": "2024-01-13T18:24:05.234158Z",
          "iopub.execute_input": "2024-01-13T18:24:05.234628Z",
          "iopub.status.idle": "2024-01-13T18:24:05.241020Z",
          "shell.execute_reply.started": "2024-01-13T18:24:05.234593Z",
          "shell.execute_reply": "2024-01-13T18:24:05.239658Z"
        },
        "trusted": true,
        "id": "lhEujWhHkLkB"
      },
      "execution_count": null,
      "outputs": []
    },
    {
      "cell_type": "code",
      "source": [
        "warnings.filterwarnings('ignore')"
      ],
      "metadata": {
        "execution": {
          "iopub.status.busy": "2024-01-13T18:24:05.243927Z",
          "iopub.execute_input": "2024-01-13T18:24:05.244336Z",
          "iopub.status.idle": "2024-01-13T18:24:05.253994Z",
          "shell.execute_reply.started": "2024-01-13T18:24:05.244299Z",
          "shell.execute_reply": "2024-01-13T18:24:05.252911Z"
        },
        "trusted": true,
        "id": "SlVwlTPgkLkC"
      },
      "execution_count": null,
      "outputs": []
    },
    {
      "cell_type": "markdown",
      "source": [
        "# Defining Hyperparameters\n",
        "\n",
        "We are defining the number of epochs our model will train and the size of the batches our data will be split into.\n",
        "\n",
        "EPOCHS (EPOCHS = 8):\n",
        "Represents the number of complete passes through the training dataset during model training.\n",
        "Set to 8, indicating the model will iterate through the dataset 8 times.\n",
        "\n",
        "BATCH_SIZE (BATCH_SIZE = 64):\n",
        "Represents the number of training examples processed in one iteration during training.\n",
        "Set to 64, meaning the model will process 64 examples at a time."
      ],
      "metadata": {
        "id": "LxFW-7kskLkC"
      }
    },
    {
      "cell_type": "code",
      "source": [
        "EPOCHS = 8\n",
        "BATCH_SIZE = 64"
      ],
      "metadata": {
        "execution": {
          "iopub.status.busy": "2024-01-13T18:24:05.256242Z",
          "iopub.execute_input": "2024-01-13T18:24:05.256738Z",
          "iopub.status.idle": "2024-01-13T18:24:05.270391Z",
          "shell.execute_reply.started": "2024-01-13T18:24:05.256700Z",
          "shell.execute_reply": "2024-01-13T18:24:05.269223Z"
        },
        "trusted": true,
        "id": "COT4wwF-kLkC"
      },
      "execution_count": null,
      "outputs": []
    },
    {
      "cell_type": "markdown",
      "source": [
        "# Importing & Cleaning our Data\n",
        "\n",
        "We now import the csv file as a pandas DataFrame and then begin cleaning our data to prepare it for training.\n",
        "\n",
        "import pandas as pd: Imports the Pandas library and aliases it as 'pd'.\n",
        "\n",
        "df = pd.read_csv('/kaggle/input/symptom2disease/Symptom2Disease.csv'): Reads a CSV file located at the specified path and assigns the DataFrame to the variable 'df'.\n",
        "\n",
        "df.drop('Unnamed: 0', axis='columns', inplace=True): Drops the column named 'Unnamed: 0' from the DataFrame in-place.\n",
        "\n",
        "df['label'] = df['label'].apply(lambda x: x.title()): Applies the title() function to each element in the 'label' column, converting the first character of each word to uppercase.\n",
        "\n",
        "df.head(2): Displays the first two rows of the modified DataFrame."
      ],
      "metadata": {
        "id": "YJi598fUkLkD"
      }
    },
    {
      "cell_type": "code",
      "source": [
        "df = pd.read_csv('/kaggle/input/symptom2disease/Symptom2Disease.csv')\n",
        "df.drop('Unnamed: 0', axis='columns', inplace=True)\n",
        "df['label'] = df['label'].apply(lambda x: x.title())\n",
        "df.head(2)"
      ],
      "metadata": {
        "execution": {
          "iopub.status.busy": "2024-01-13T18:24:05.271767Z",
          "iopub.execute_input": "2024-01-13T18:24:05.272566Z",
          "iopub.status.idle": "2024-01-13T18:24:05.314115Z",
          "shell.execute_reply.started": "2024-01-13T18:24:05.272530Z",
          "shell.execute_reply": "2024-01-13T18:24:05.312869Z"
        },
        "trusted": true,
        "id": "IjCft977kLkD",
        "outputId": "fcc6af4e-5e6c-432d-dd7c-6df660edfffd"
      },
      "execution_count": null,
      "outputs": [
        {
          "execution_count": 26,
          "output_type": "execute_result",
          "data": {
            "text/plain": "       label                                               text\n0  Psoriasis  I have been experiencing a skin rash on my arm...\n1  Psoriasis  My skin has been peeling, especially on my kne...",
            "text/html": "<div>\n<style scoped>\n    .dataframe tbody tr th:only-of-type {\n        vertical-align: middle;\n    }\n\n    .dataframe tbody tr th {\n        vertical-align: top;\n    }\n\n    .dataframe thead th {\n        text-align: right;\n    }\n</style>\n<table border=\"1\" class=\"dataframe\">\n  <thead>\n    <tr style=\"text-align: right;\">\n      <th></th>\n      <th>label</th>\n      <th>text</th>\n    </tr>\n  </thead>\n  <tbody>\n    <tr>\n      <th>0</th>\n      <td>Psoriasis</td>\n      <td>I have been experiencing a skin rash on my arm...</td>\n    </tr>\n    <tr>\n      <th>1</th>\n      <td>Psoriasis</td>\n      <td>My skin has been peeling, especially on my kne...</td>\n    </tr>\n  </tbody>\n</table>\n</div>"
          },
          "metadata": {}
        }
      ]
    },
    {
      "cell_type": "markdown",
      "source": [
        "## One hot encoding the target labels\n",
        "\n",
        "We now one hot encode the target labels since the labels are in string categorical format and so we convert it to one hot encoded format to make it suitable for training.\n",
        "\n",
        "Label Binarization:\n",
        "\n",
        "A LabelBinarizer object from scikit-learn is created. This object is used to transform categorical labels into a binary matrix (one-hot encoding).\n",
        "Transformation and Joining:\n",
        "\n",
        "The fit_transform method of the LabelBinarizer is applied to the 'label' column of the DataFrame (df).\n",
        "The resulting binary matrix is converted into a DataFrame with appropriate column names and the original DataFrame's index.\n",
        "This new binary-encoded DataFrame is then joined with the original DataFrame based on the index.\n",
        "Drop Original Column:\n",
        "\n",
        "The original 'label' column is dropped from the DataFrame since it has been replaced by the binary-encoded columns."
      ],
      "metadata": {
        "id": "VNvPUe-nkLkE"
      }
    },
    {
      "cell_type": "code",
      "source": [
        "label_binarizer = sklearn.preprocessing.LabelBinarizer()\n",
        "df = df.join(pd.DataFrame(label_binarizer.fit_transform(df['label']),\n",
        "                         columns=label_binarizer.classes_,\n",
        "                         index=df.index\n",
        "                         ))\n",
        "df.drop('label', axis='columns', inplace=True)\n",
        "df.head(2)"
      ],
      "metadata": {
        "execution": {
          "iopub.status.busy": "2024-01-13T18:24:05.317386Z",
          "iopub.execute_input": "2024-01-13T18:24:05.317813Z",
          "iopub.status.idle": "2024-01-13T18:24:05.354441Z",
          "shell.execute_reply.started": "2024-01-13T18:24:05.317772Z",
          "shell.execute_reply": "2024-01-13T18:24:05.353077Z"
        },
        "trusted": true,
        "id": "SF8h-tJCkLkE",
        "outputId": "051881b6-5d10-46b5-e7e8-d33d364231fd"
      },
      "execution_count": null,
      "outputs": [
        {
          "execution_count": 27,
          "output_type": "execute_result",
          "data": {
            "text/plain": "                                                text  Acne  Allergy  \\\n0  I have been experiencing a skin rash on my arm...     0        0   \n1  My skin has been peeling, especially on my kne...     0        0   \n\n   Arthritis  Bronchial Asthma  Cervical Spondylosis  Chicken Pox  \\\n0          0                 0                     0            0   \n1          0                 0                     0            0   \n\n   Common Cold  Dengue  Diabetes  ...  Impetigo  Jaundice  Malaria  Migraine  \\\n0            0       0         0  ...         0         0        0         0   \n1            0       0         0  ...         0         0        0         0   \n\n   Peptic Ulcer Disease  Pneumonia  Psoriasis  Typhoid  \\\n0                     0          0          1        0   \n1                     0          0          1        0   \n\n   Urinary Tract Infection  Varicose Veins  \n0                        0               0  \n1                        0               0  \n\n[2 rows x 25 columns]",
            "text/html": "<div>\n<style scoped>\n    .dataframe tbody tr th:only-of-type {\n        vertical-align: middle;\n    }\n\n    .dataframe tbody tr th {\n        vertical-align: top;\n    }\n\n    .dataframe thead th {\n        text-align: right;\n    }\n</style>\n<table border=\"1\" class=\"dataframe\">\n  <thead>\n    <tr style=\"text-align: right;\">\n      <th></th>\n      <th>text</th>\n      <th>Acne</th>\n      <th>Allergy</th>\n      <th>Arthritis</th>\n      <th>Bronchial Asthma</th>\n      <th>Cervical Spondylosis</th>\n      <th>Chicken Pox</th>\n      <th>Common Cold</th>\n      <th>Dengue</th>\n      <th>Diabetes</th>\n      <th>...</th>\n      <th>Impetigo</th>\n      <th>Jaundice</th>\n      <th>Malaria</th>\n      <th>Migraine</th>\n      <th>Peptic Ulcer Disease</th>\n      <th>Pneumonia</th>\n      <th>Psoriasis</th>\n      <th>Typhoid</th>\n      <th>Urinary Tract Infection</th>\n      <th>Varicose Veins</th>\n    </tr>\n  </thead>\n  <tbody>\n    <tr>\n      <th>0</th>\n      <td>I have been experiencing a skin rash on my arm...</td>\n      <td>0</td>\n      <td>0</td>\n      <td>0</td>\n      <td>0</td>\n      <td>0</td>\n      <td>0</td>\n      <td>0</td>\n      <td>0</td>\n      <td>0</td>\n      <td>...</td>\n      <td>0</td>\n      <td>0</td>\n      <td>0</td>\n      <td>0</td>\n      <td>0</td>\n      <td>0</td>\n      <td>1</td>\n      <td>0</td>\n      <td>0</td>\n      <td>0</td>\n    </tr>\n    <tr>\n      <th>1</th>\n      <td>My skin has been peeling, especially on my kne...</td>\n      <td>0</td>\n      <td>0</td>\n      <td>0</td>\n      <td>0</td>\n      <td>0</td>\n      <td>0</td>\n      <td>0</td>\n      <td>0</td>\n      <td>0</td>\n      <td>...</td>\n      <td>0</td>\n      <td>0</td>\n      <td>0</td>\n      <td>0</td>\n      <td>0</td>\n      <td>0</td>\n      <td>1</td>\n      <td>0</td>\n      <td>0</td>\n      <td>0</td>\n    </tr>\n  </tbody>\n</table>\n<p>2 rows × 25 columns</p>\n</div>"
          },
          "metadata": {}
        }
      ]
    },
    {
      "cell_type": "markdown",
      "source": [
        "# Preparing Training & Validation Datasets\n",
        "\n",
        "The next step is to split our DataFrames for training and testing and convert them to ```tf.data.Datasets()``` to apply batching and then caching and prefetching the data for faster training.\n",
        "\n",
        "Randomly samples 20% of the data for validation (val_df) and uses the remaining 80% for training (train_df).\n",
        "\n",
        "Defines a function to convert Pandas DataFrames to TensorFlow Datasets (dataframe_to_tf_dataset).\n",
        "\n",
        "Applies batching to the datasets using .batch(BATCH_SIZE), where BATCH_SIZE is the number of samples per batch.\n",
        "\n",
        "Caches the datasets using .cache() to improve performance.\n",
        "\n",
        "Prefetches the datasets using .prefetch(tf.data.AUTOTUNE) to overlap data preprocessing and model execution, optimizing the data loading process."
      ],
      "metadata": {
        "id": "LtnTeWBJkLkF"
      }
    },
    {
      "cell_type": "code",
      "source": [
        "val_df = df.sample(frac=0.2)\n",
        "train_df = df.drop(val_df.index)\n",
        "\n",
        "print(f'Training Dataset Size: {len(train_df)}', f'Validation Dataset Size: {len(val_df)}', sep='\\n')"
      ],
      "metadata": {
        "execution": {
          "iopub.status.busy": "2024-01-13T18:24:05.355900Z",
          "iopub.execute_input": "2024-01-13T18:24:05.356377Z",
          "iopub.status.idle": "2024-01-13T18:24:05.365215Z",
          "shell.execute_reply.started": "2024-01-13T18:24:05.356343Z",
          "shell.execute_reply": "2024-01-13T18:24:05.363908Z"
        },
        "trusted": true,
        "id": "uu-bzh4pkLkF",
        "outputId": "20bb0200-c64c-42ed-ba84-c7e10ef6bafd"
      },
      "execution_count": null,
      "outputs": [
        {
          "name": "stdout",
          "text": "Training Dataset Size: 960\nValidation Dataset Size: 240\n",
          "output_type": "stream"
        }
      ]
    },
    {
      "cell_type": "code",
      "source": [
        "def dataframe_to_tf_dataset(dataframe):\n",
        "    dataframe = dataframe.copy()\n",
        "    feature = dataframe.pop('text')\n",
        "    ds = tf.data.Dataset.from_tensor_slices((feature, dataframe))\n",
        "    ds = ds.shuffle(buffer_size=len(dataframe))\n",
        "    return ds"
      ],
      "metadata": {
        "execution": {
          "iopub.status.busy": "2024-01-13T18:24:05.367150Z",
          "iopub.execute_input": "2024-01-13T18:24:05.367626Z",
          "iopub.status.idle": "2024-01-13T18:24:05.375496Z",
          "shell.execute_reply.started": "2024-01-13T18:24:05.367571Z",
          "shell.execute_reply": "2024-01-13T18:24:05.374142Z"
        },
        "trusted": true,
        "id": "ydqImy_8kLkF"
      },
      "execution_count": null,
      "outputs": []
    },
    {
      "cell_type": "code",
      "source": [
        "train_ds = dataframe_to_tf_dataset(train_df).batch(BATCH_SIZE).cache().prefetch(tf.data.AUTOTUNE)\n",
        "val_ds = dataframe_to_tf_dataset(val_df).batch(BATCH_SIZE).cache().prefetch(tf.data.AUTOTUNE)"
      ],
      "metadata": {
        "execution": {
          "iopub.status.busy": "2024-01-13T18:24:05.376619Z",
          "iopub.execute_input": "2024-01-13T18:24:05.377021Z",
          "iopub.status.idle": "2024-01-13T18:24:05.418217Z",
          "shell.execute_reply.started": "2024-01-13T18:24:05.376983Z",
          "shell.execute_reply": "2024-01-13T18:24:05.416770Z"
        },
        "trusted": true,
        "id": "JqN2go5GkLkG"
      },
      "execution_count": null,
      "outputs": []
    },
    {
      "cell_type": "markdown",
      "source": [
        "# Building our Model\n",
        "\n",
        "Now we move on to the main part, where we define the layers of the model."
      ],
      "metadata": {
        "id": "ftkB0MY5kLkG"
      }
    },
    {
      "cell_type": "markdown",
      "source": [
        "## A description of our Model\n",
        "\n",
        "We are building a keras Model using the functional API. The following is the description of the layers that we are using:\n",
        "\n",
        "* We first create an Input Layer where we take the raw string as an input. The BERT preprocessor can handle raw strings from the dataset unlike the keras Embedding layer.\n",
        "* The next step is to create a BERT preprocessor layer which would process our raw string and convert it to an useful form for the BERT encoders. The layer tokenizes our string and also uses Positional and Token Embeddings for extraction of context.\n",
        "* The encoder is based on the Transformer architecture which then processes our encoded string and gives a pooled output.\n",
        "* We then use a Dropout layer to prevent overfitting our model\n",
        "* We then create another Dense Layer with 24 nodes representing our 24 classes with the softmax activation function as the output"
      ],
      "metadata": {
        "id": "EkRHZC_ckLkG"
      }
    },
    {
      "cell_type": "code",
      "source": [
        "text_input = tf.keras.Input(shape=(), name='text', dtype='string')\n",
        "preprocessor = hub.KerasLayer('/kaggle/input/bert/tensorflow2/en-uncased-preprocess/3', name='bert_preprocessor')\n",
        "encoder_inputs = preprocessor(text_input)\n",
        "encoder = hub.KerasLayer('/kaggle/input/bert/tensorflow2/bert-en-uncased-l-6-h-128-a-2/2', trainable=True, name='bert_encoder')\n",
        "outputs = encoder(encoder_inputs)\n",
        "pooled_output = outputs['pooled_output']\n",
        "x = tf.keras.layers.Dropout(0.20, name='dropout')(pooled_output)\n",
        "outputs = tf.keras.layers.Dense(24, activation='softmax', name='output')(x)"
      ],
      "metadata": {
        "execution": {
          "iopub.status.busy": "2024-01-13T18:24:05.420206Z",
          "iopub.execute_input": "2024-01-13T18:24:05.420738Z",
          "iopub.status.idle": "2024-01-13T18:24:13.415549Z",
          "shell.execute_reply.started": "2024-01-13T18:24:05.420694Z",
          "shell.execute_reply": "2024-01-13T18:24:13.414551Z"
        },
        "trusted": true,
        "id": "i4JdBXQAkLkG"
      },
      "execution_count": null,
      "outputs": []
    },
    {
      "cell_type": "code",
      "source": [
        "model = tf.keras.Model(text_input, outputs, name='medaid')\n",
        "model.compile(optimizer='adam', loss='categorical_crossentropy', metrics=['accuracy'])\n",
        "model.summary()"
      ],
      "metadata": {
        "execution": {
          "iopub.status.busy": "2024-01-13T18:24:13.416721Z",
          "iopub.execute_input": "2024-01-13T18:24:13.417049Z",
          "iopub.status.idle": "2024-01-13T18:24:13.476529Z",
          "shell.execute_reply.started": "2024-01-13T18:24:13.417020Z",
          "shell.execute_reply": "2024-01-13T18:24:13.472918Z"
        },
        "trusted": true,
        "id": "iIp3F-qwkLkH",
        "outputId": "d6d047d2-4156-4656-f707-c0f834c4f8e9"
      },
      "execution_count": null,
      "outputs": [
        {
          "name": "stdout",
          "text": "Model: \"medaid\"\n__________________________________________________________________________________________________\n Layer (type)                Output Shape                 Param #   Connected to                  \n==================================================================================================\n text (InputLayer)           [(None,)]                    0         []                            \n                                                                                                  \n bert_preprocessor (KerasLa  {'input_mask': (None, 128)   0         ['text[0][0]']                \n yer)                        , 'input_type_ids': (None,                                           \n                              128),                                                               \n                              'input_word_ids': (None,                                            \n                             128)}                                                                \n                                                                                                  \n bert_encoder (KerasLayer)   {'sequence_output': (None,   5179009   ['bert_preprocessor[0][0]',   \n                              128, 128),                             'bert_preprocessor[0][1]',   \n                              'pooled_output': (None, 1              'bert_preprocessor[0][2]']   \n                             28),                                                                 \n                              'encoder_outputs': [(None                                           \n                             , 128, 128),                                                         \n                              (None, 128, 128),                                                   \n                              (None, 128, 128),                                                   \n                              (None, 128, 128),                                                   \n                              (None, 128, 128),                                                   \n                              (None, 128, 128)],                                                  \n                              'default': (None, 128)}                                             \n                                                                                                  \n dropout (Dropout)           (None, 128)                  0         ['bert_encoder[0][7]']        \n                                                                                                  \n output (Dense)              (None, 24)                   3096      ['dropout[0][0]']             \n                                                                                                  \n==================================================================================================\nTotal params: 5182105 (19.77 MB)\nTrainable params: 5182104 (19.77 MB)\nNon-trainable params: 1 (1.00 Byte)\n__________________________________________________________________________________________________\n",
          "output_type": "stream"
        }
      ]
    },
    {
      "cell_type": "code",
      "source": [
        "tf.keras.utils.plot_model(model, show_shapes=True, show_dtype=True)"
      ],
      "metadata": {
        "execution": {
          "iopub.status.busy": "2024-01-13T18:24:13.479697Z",
          "iopub.execute_input": "2024-01-13T18:24:13.480017Z",
          "iopub.status.idle": "2024-01-13T18:24:13.666499Z",
          "shell.execute_reply.started": "2024-01-13T18:24:13.479989Z",
          "shell.execute_reply": "2024-01-13T18:24:13.665449Z"
        },
        "trusted": true,
        "id": "j5wEZPLPkLkH",
        "outputId": "54e60ecd-daaa-436b-c1b9-441870ba64d9"
      },
      "execution_count": null,
      "outputs": [
        {
          "execution_count": 33,
          "output_type": "execute_result",
          "data": {
            "image/png": "[encoded data removed]",
            "text/plain": "<IPython.core.display.Image object>"
          },
          "metadata": {}
        }
      ]
    },
    {
      "cell_type": "code",
      "source": [
        "model.fit(train_ds, epochs=EPOCHS, validation_data=val_ds)"
      ],
      "metadata": {
        "execution": {
          "iopub.status.busy": "2024-01-13T18:24:13.667700Z",
          "iopub.execute_input": "2024-01-13T18:24:13.667991Z",
          "iopub.status.idle": "2024-01-13T18:25:10.886746Z",
          "shell.execute_reply.started": "2024-01-13T18:24:13.667966Z",
          "shell.execute_reply": "2024-01-13T18:25:10.885674Z"
        },
        "trusted": true,
        "id": "IGfqE63HkLkH",
        "outputId": "84a9ca78-2ce5-49c9-f4a3-f31b09b482cc"
      },
      "execution_count": null,
      "outputs": [
        {
          "name": "stdout",
          "text": "Epoch 1/8\n15/15 [==============================] - 31s 486ms/step - loss: 3.4450 - accuracy: 0.0437 - val_loss: 3.2229 - val_accuracy: 0.0333\nEpoch 2/8\n15/15 [==============================] - 4s 255ms/step - loss: 3.3126 - accuracy: 0.0458 - val_loss: 3.1968 - val_accuracy: 0.0333\nEpoch 3/8\n15/15 [==============================] - 4s 264ms/step - loss: 3.1104 - accuracy: 0.0979 - val_loss: 2.7396 - val_accuracy: 0.1083\nEpoch 4/8\n15/15 [==============================] - 4s 256ms/step - loss: 2.4726 - accuracy: 0.2490 - val_loss: 1.9918 - val_accuracy: 0.3458\nEpoch 5/8\n15/15 [==============================] - 4s 252ms/step - loss: 1.7018 - accuracy: 0.4979 - val_loss: 1.2933 - val_accuracy: 0.5958\nEpoch 6/8\n15/15 [==============================] - 4s 252ms/step - loss: 0.9994 - accuracy: 0.7333 - val_loss: 0.7652 - val_accuracy: 0.7917\nEpoch 7/8\n15/15 [==============================] - 4s 254ms/step - loss: 0.5668 - accuracy: 0.8656 - val_loss: 0.4950 - val_accuracy: 0.8625\nEpoch 8/8\n15/15 [==============================] - 4s 249ms/step - loss: 0.3663 - accuracy: 0.9177 - val_loss: 0.3730 - val_accuracy: 0.9042\n",
          "output_type": "stream"
        },
        {
          "execution_count": 34,
          "output_type": "execute_result",
          "data": {
            "text/plain": "<keras.src.callbacks.History at 0x78f52cb8ece0>"
          },
          "metadata": {}
        }
      ]
    },
    {
      "cell_type": "markdown",
      "source": [
        "# Saving the model and the classes\n",
        "\n",
        "We now save our model in ```.keras``` format and the classes dictionary in ```.json``` format.\n",
        "\n",
        "Save Model in Keras Format:\n",
        "The model.save method is used to save the trained model in Keras format. The saved model will be in the HDF5 file format and will include the architecture, weights, and optimizer state.\n",
        "\n",
        "Save Classes to JSON:\n",
        "The code extracts the classes from the label binarizer (label_binarizer.classes_).\n",
        "It creates a dictionary (classes_dict) with the class indices as keys and class names as values.\n",
        "The dictionary is then saved to a JSON file (classes.json) using json.dump."
      ],
      "metadata": {
        "id": "0BaIlBqIkLkI"
      }
    },
    {
      "cell_type": "code",
      "source": [
        "model.save('/kaggle/working/model.keras')"
      ],
      "metadata": {
        "execution": {
          "iopub.status.busy": "2024-01-13T18:25:10.887949Z",
          "iopub.execute_input": "2024-01-13T18:25:10.888233Z",
          "iopub.status.idle": "2024-01-13T18:25:11.355421Z",
          "shell.execute_reply.started": "2024-01-13T18:25:10.888208Z",
          "shell.execute_reply": "2024-01-13T18:25:11.353928Z"
        },
        "trusted": true,
        "id": "itqt1CbBkLkI"
      },
      "execution_count": null,
      "outputs": []
    },
    {
      "cell_type": "code",
      "source": [
        "classes = label_binarizer.classes_\n",
        "classes_dict = {i: v for i, v in enumerate(classes)}\n",
        "with open('/kaggle/working/classes.json', 'w') as file:\n",
        "    json.dump(classes_dict, file)"
      ],
      "metadata": {
        "execution": {
          "iopub.status.busy": "2024-01-13T18:25:11.357189Z",
          "iopub.execute_input": "2024-01-13T18:25:11.357628Z",
          "iopub.status.idle": "2024-01-13T18:25:11.363582Z",
          "shell.execute_reply.started": "2024-01-13T18:25:11.357597Z",
          "shell.execute_reply": "2024-01-13T18:25:11.362460Z"
        },
        "trusted": true,
        "id": "XrLiIBFBkLkI"
      },
      "execution_count": null,
      "outputs": []
    },
    {
      "cell_type": "markdown",
      "source": [
        "# Testing our Model\n",
        "\n",
        "We now test our model using some custom inputs to check its predictions."
      ],
      "metadata": {
        "id": "p_c6LLvzkLkI"
      }
    },
    {
      "cell_type": "markdown",
      "source": [
        "## The predict function\n",
        "\n",
        "The predict function here takes text as a parameter which is the string containing the user prompt. It then creates a dictionary with a key ```text``` and the value as the entered prompt. We then convert the entered prompt into a tensor so that our model can predict the class. We finally use the ```predict``` function of our model to predict the probability (the softmax function) of all our classes and we return the top three classes with the highest probability.\n",
        "\n",
        "Takes a text input.\n",
        "Prepares the input feature.\n",
        "Converts the feature to a TensorFlow tensor.\n",
        "Makes predictions using the model.\n",
        "Creates a dictionary mapping predicted diseases to their confidence scores.\n",
        "Sorts the dictionary by confidence scores in descending order.\n",
        "Prints the top three predicted diseases and their confidence scores."
      ],
      "metadata": {
        "id": "qG9G61ltkLkI"
      }
    },
    {
      "cell_type": "code",
      "source": [
        "def predict(text):\n",
        "    print(text)\n",
        "    feature = {'text': text}\n",
        "    input_dict = {name: tf.convert_to_tensor([value]) for name, value in feature.items()}\n",
        "    predictions = model.predict(input_dict, verbose=0)[0]\n",
        "    classes = label_binarizer.classes_\n",
        "    predictions_dict = {}\n",
        "    for i in range(len(classes)):\n",
        "        predictions_dict[classes[i]] = predictions[i] * 100\n",
        "    predictions_dict = {k: v for k, v in sorted(predictions_dict.items(), key=lambda item: item[1], reverse=True)}\n",
        "    count = 0\n",
        "    for disease in predictions_dict:\n",
        "        if count == 3:\n",
        "            break\n",
        "        print(f'{disease}: {predictions_dict[disease]}%')\n",
        "        count += 1"
      ],
      "metadata": {
        "execution": {
          "iopub.status.busy": "2024-01-13T18:25:11.364975Z",
          "iopub.execute_input": "2024-01-13T18:25:11.365297Z",
          "iopub.status.idle": "2024-01-13T18:25:11.376415Z",
          "shell.execute_reply.started": "2024-01-13T18:25:11.365246Z",
          "shell.execute_reply": "2024-01-13T18:25:11.375624Z"
        },
        "trusted": true,
        "id": "rzoI6PzgkLkJ"
      },
      "execution_count": null,
      "outputs": []
    },
    {
      "cell_type": "code",
      "source": [
        "predict('I inadvertently lose weight and have a hard time gaining it back. I use antacids to get rid of the pain and discomfort I experience. It aches so much in my mouth.')\n",
        "print()\n",
        "predict('My vision is foggy, and it appears to be growing worse. I feel exhausted and worn out all the time. I also have severe dizziness and lightheadedness on occasion.')\n",
        "print()\n",
        "predict('I get wheezing and breathing difficulties, which are asthma symptoms. I frequently have headaches and fever. I am continuously exhausted.')"
      ],
      "metadata": {
        "execution": {
          "iopub.status.busy": "2024-01-13T18:25:11.377819Z",
          "iopub.execute_input": "2024-01-13T18:25:11.378452Z",
          "iopub.status.idle": "2024-01-13T18:25:12.082539Z",
          "shell.execute_reply.started": "2024-01-13T18:25:11.378425Z",
          "shell.execute_reply": "2024-01-13T18:25:12.081600Z"
        },
        "trusted": true,
        "id": "VDNDHvc_kLkJ",
        "outputId": "10806209-39ae-44ab-bf03-6873293973c9"
      },
      "execution_count": null,
      "outputs": [
        {
          "name": "stdout",
          "text": "I inadvertently lose weight and have a hard time gaining it back. I use antacids to get rid of the pain and discomfort I experience. It aches so much in my mouth.\nPeptic Ulcer Disease: 80.98665475845337%\nDiabetes: 10.148701071739197%\nVaricose Veins: 2.450842969119549%\n\nMy vision is foggy, and it appears to be growing worse. I feel exhausted and worn out all the time. I also have severe dizziness and lightheadedness on occasion.\nDiabetes: 86.90938949584961%\nDrug Reaction: 4.16480228304863%\nPeptic Ulcer Disease: 4.129981622099876%\n\nI get wheezing and breathing difficulties, which are asthma symptoms. I frequently have headaches and fever. I am continuously exhausted.\nAllergy: 72.44563698768616%\nDrug Reaction: 18.635402619838715%\nDiabetes: 3.1848005950450897%\n",
          "output_type": "stream"
        }
      ]
    },
    {
      "cell_type": "code",
      "source": [
        "predict('my hands are paining')\n",
        "print()"
      ],
      "metadata": {
        "execution": {
          "iopub.status.busy": "2024-01-13T18:25:12.083898Z",
          "iopub.execute_input": "2024-01-13T18:25:12.084206Z",
          "iopub.status.idle": "2024-01-13T18:25:12.154512Z",
          "shell.execute_reply.started": "2024-01-13T18:25:12.084178Z",
          "shell.execute_reply": "2024-01-13T18:25:12.153491Z"
        },
        "trusted": true,
        "id": "K6jfaB_gkLkJ",
        "outputId": "28ecdc3a-0829-4b7b-8313-e64e0136b5eb"
      },
      "execution_count": null,
      "outputs": [
        {
          "name": "stdout",
          "text": "my hands are paining\nDiabetes: 67.55151748657227%\nDrug Reaction: 18.92620176076889%\nDengue: 5.092855915427208%\n\n",
          "output_type": "stream"
        }
      ]
    },
    {
      "cell_type": "code",
      "source": [
        "# Save the model in the SavedModel format\n",
        "model.save('/kaggle/working/model_saved_model')\n"
      ],
      "metadata": {
        "execution": {
          "iopub.status.busy": "2024-01-13T18:32:45.963247Z",
          "iopub.execute_input": "2024-01-13T18:32:45.963988Z",
          "iopub.status.idle": "2024-01-13T18:32:55.457399Z",
          "shell.execute_reply.started": "2024-01-13T18:32:45.963955Z",
          "shell.execute_reply": "2024-01-13T18:32:55.456529Z"
        },
        "trusted": true,
        "id": "ZYurTN7WkLkJ"
      },
      "execution_count": null,
      "outputs": []
    },
    {
      "cell_type": "markdown",
      "source": [
        "## Graphical User Interface\n",
        "\n",
        "Load Saved Model:\n",
        "The code loads a saved TensorFlow model from the specified path.\n",
        "\n",
        "Define Keras Model:\n",
        "The code defines a new Keras Sequential model using the loaded inference function. It uses a Lambda layer with the loaded inference function and specifies the input shape and dtype.\n",
        "\n",
        "Load Classes:\n",
        "The code loads a dictionary of classes from a JSON file.\n",
        "\n",
        "Create Widgets:\n",
        "Text input widget (text_input): A textarea widget for entering symptoms.\n",
        "Button widget (predict_button): A button for triggering predictions.\n",
        "Output widget (output): An output widget for displaying predictions.\n",
        "\n",
        "Button Click Event:\n",
        "The on_predict_button_click function is called when the button is clicked.\n",
        "It retrieves the entered symptoms from the text input, gets predictions using the get_prediction function, and prints the top predictions.\n",
        "\n",
        "Prediction Function (get_prediction):\n",
        "The get_prediction function uses the model's predict method to get predictions for the entered symptoms.\n",
        "It converts predictions to a dictionary and sorts them by probability in descending order.\n",
        "The function returns the top three predictions as a list.\n",
        "\n",
        "Display Widgets:\n",
        "The text input, button, and output widgets are displayed."
      ],
      "metadata": {
        "id": "tmi4n0uWkLkK"
      }
    },
    {
      "cell_type": "code",
      "source": [
        "# Load the saved model\n",
        "loaded_model = tf.saved_model.load('/kaggle/working/model_saved_model')\n",
        "\n",
        "# Get the inference function from the model's signatures\n",
        "inference_function = loaded_model.signatures[\"serving_default\"]\n",
        "\n",
        "# Define a new Keras model using the loaded function\n",
        "model = tf.keras.Sequential([\n",
        "    tf.keras.layers.Input(shape=(), dtype=tf.string, name='text'),  # Adjust the input shape and dtype accordingly\n",
        "    tf.keras.layers.Lambda(inference_function, input_shape=(), dtype=tf.float32)\n",
        "])\n",
        "\n",
        "# Load the classes\n",
        "with open('/kaggle/working/classes.json', 'r') as file:\n",
        "    classes_dict = json.load(file)\n",
        "    classes = {int(k): v for k, v in classes_dict.items()}\n",
        "\n",
        "# Text input widget\n",
        "text_input = widgets.Textarea(\n",
        "    value='',\n",
        "    placeholder='Enter your symptoms...',\n",
        "    description='Symptoms:',\n",
        "    disabled=False\n",
        ")\n",
        "\n",
        "# Button widget\n",
        "predict_button = widgets.Button(description='Predict')\n",
        "\n",
        "# Output widget\n",
        "output = widgets.Output()\n",
        "\n",
        "# Function to be called when the button is clicked\n",
        "def on_predict_button_click(b):\n",
        "    with output:\n",
        "        output.clear_output()\n",
        "        text = text_input.value\n",
        "        prediction = get_prediction(text)\n",
        "        print(f\"Entered symptoms: {text}\")\n",
        "        print(\"\\nTop Predictions:\")\n",
        "        for pred in prediction:\n",
        "            print(f\"{pred[0]}: {pred[1]:.2f}%\")\n",
        "\n",
        "# Assign the function to the button click event\n",
        "predict_button.on_click(on_predict_button_click)\n",
        "\n",
        "# Function to get predictions\n",
        "def get_prediction(text):\n",
        "    # Use the model's predict method to get the dictionary of predictions\n",
        "    predictions_dict = model.predict(tf.constant([text]))\n",
        "\n",
        "    # Convert predictions to a dictionary\n",
        "    predictions_dict = {classes[i]: predictions_dict['output'][0][i] * 100 for i in range(len(classes))}\n",
        "\n",
        "    # Sort predictions by probability in descending order\n",
        "    predictions_dict = {k: v for k, v in sorted(predictions_dict.items(), key=lambda item: item[1], reverse=True)}\n",
        "\n",
        "    # Return the top three predictions\n",
        "    top_predictions = list(predictions_dict.items())[:3]\n",
        "\n",
        "    return top_predictions\n",
        "\n",
        "\n",
        "# Display widgets\n",
        "display(text_input)\n",
        "display(predict_button)\n",
        "display(output)\n"
      ],
      "metadata": {
        "execution": {
          "iopub.status.busy": "2024-01-13T18:41:01.573097Z",
          "iopub.execute_input": "2024-01-13T18:41:01.573908Z",
          "iopub.status.idle": "2024-01-13T18:41:10.438759Z",
          "shell.execute_reply.started": "2024-01-13T18:41:01.573867Z",
          "shell.execute_reply": "2024-01-13T18:41:10.437862Z"
        },
        "trusted": true,
        "colab": {
          "referenced_widgets": [
            "d594135410754a9598d29d40908e926b",
            "8516cccf4dd54b1ca253a43764722788",
            "6aaf879810114a9c9672028dc3eb2de4"
          ]
        },
        "id": "TYnvDg4hkLkK",
        "outputId": "911d04c1-6a84-47c0-a5aa-f63dc2a929cc"
      },
      "execution_count": null,
      "outputs": [
        {
          "output_type": "display_data",
          "data": {
            "text/plain": "Textarea(value='', description='Symptoms:', placeholder='Enter your symptoms...')",
            "application/vnd.jupyter.widget-view+json": {
              "version_major": 2,
              "version_minor": 0,
              "model_id": "d594135410754a9598d29d40908e926b"
            }
          },
          "metadata": {}
        },
        {
          "output_type": "display_data",
          "data": {
            "text/plain": "Button(description='Predict', style=ButtonStyle())",
            "application/vnd.jupyter.widget-view+json": {
              "version_major": 2,
              "version_minor": 0,
              "model_id": "8516cccf4dd54b1ca253a43764722788"
            }
          },
          "metadata": {}
        },
        {
          "output_type": "display_data",
          "data": {
            "text/plain": "Output()",
            "application/vnd.jupyter.widget-view+json": {
              "version_major": 2,
              "version_minor": 0,
              "model_id": "6aaf879810114a9c9672028dc3eb2de4"
            }
          },
          "metadata": {}
        }
      ]
    },
    {
      "cell_type": "code",
      "source": [
        "# Load the saved model\n",
        "loaded_model = tf.saved_model.load('/kaggle/working/model_saved_model')\n",
        "\n",
        "# Get the inference function from the model's signatures\n",
        "inference_function = loaded_model.signatures[\"serving_default\"]\n",
        "\n",
        "# Define a new Keras model using the loaded function\n",
        "model = tf.keras.Sequential([\n",
        "    tf.keras.layers.Input(shape=(), dtype=tf.string, name='text'),  # Adjust the input shape and dtype accordingly\n",
        "    tf.keras.layers.Lambda(inference_function, input_shape=(), dtype=tf.float32)\n",
        "])\n",
        "\n",
        "# Load the classes\n",
        "with open('/kaggle/working/classes.json', 'r') as file:\n",
        "    classes_dict = json.load(file)\n",
        "    classes = {int(k): v for k, v in classes_dict.items()}\n",
        "\n",
        "# Text input widget\n",
        "text_input = widgets.Textarea(\n",
        "    value='',\n",
        "    placeholder='Enter your symptoms...',\n",
        "    description='Symptoms:',\n",
        "    disabled=False\n",
        ")\n",
        "\n",
        "# Button widget\n",
        "predict_button = widgets.Button(description='Predict')\n",
        "\n",
        "# Output widget\n",
        "output = widgets.Output()\n",
        "\n",
        "# Function to be called when the button is clicked\n",
        "def on_predict_button_click(b):\n",
        "    with output:\n",
        "        output.clear_output()\n",
        "        text = text_input.value\n",
        "        prediction = get_prediction(text)\n",
        "        print(f\"Entered symptoms: {text}\")\n",
        "        print(\"\\nTop Predictions:\")\n",
        "        for pred in prediction:\n",
        "            print(f\"{pred[0]}: {pred[1]:.2f}%\")\n",
        "\n",
        "# Assign the function to the button click event\n",
        "predict_button.on_click(on_predict_button_click)\n",
        "\n",
        "# Function to get predictions\n",
        "def get_prediction(text):\n",
        "    # Use the model's predict method to get the dictionary of predictions\n",
        "    predictions_dict = model.predict(tf.constant([text]))\n",
        "\n",
        "    # Convert predictions to a dictionary\n",
        "    predictions_dict = {classes[i]: predictions_dict['output'][0][i] * 100 for i in range(len(classes))}\n",
        "\n",
        "    # Sort predictions by probability in descending order\n",
        "    predictions_dict = {k: v for k, v in sorted(predictions_dict.items(), key=lambda item: item[1], reverse=True)}\n",
        "\n",
        "    # Return the top three predictions\n",
        "    top_predictions = list(predictions_dict.items())[:3]\n",
        "\n",
        "    return top_predictions\n",
        "\n",
        "\n",
        "# Display widgets\n",
        "display(text_input)\n",
        "display(predict_button)\n",
        "display(output)\n"
      ],
      "metadata": {
        "execution": {
          "iopub.status.busy": "2024-01-13T18:48:36.977129Z",
          "iopub.execute_input": "2024-01-13T18:48:36.977539Z",
          "iopub.status.idle": "2024-01-13T18:48:48.561141Z",
          "shell.execute_reply.started": "2024-01-13T18:48:36.977509Z",
          "shell.execute_reply": "2024-01-13T18:48:48.560231Z"
        },
        "trusted": true,
        "colab": {
          "referenced_widgets": [
            "0aaf9e74d1e84ed2bd67c3d94afae25e",
            "2d18afc2d1fa4a0686367c9c9cea397c",
            "b23716226eb0479ea761e6f79bdbea73"
          ]
        },
        "id": "Z5yJDBJvkLkK",
        "outputId": "c8a3c7fa-e200-4e60-be30-1b3e598c407b"
      },
      "execution_count": null,
      "outputs": [
        {
          "output_type": "display_data",
          "data": {
            "text/plain": "Textarea(value='', description='Symptoms:', placeholder='Enter your symptoms...')",
            "application/vnd.jupyter.widget-view+json": {
              "version_major": 2,
              "version_minor": 0,
              "model_id": "0aaf9e74d1e84ed2bd67c3d94afae25e"
            }
          },
          "metadata": {}
        },
        {
          "output_type": "display_data",
          "data": {
            "text/plain": "Button(description='Predict', style=ButtonStyle())",
            "application/vnd.jupyter.widget-view+json": {
              "version_major": 2,
              "version_minor": 0,
              "model_id": "2d18afc2d1fa4a0686367c9c9cea397c"
            }
          },
          "metadata": {}
        },
        {
          "output_type": "display_data",
          "data": {
            "text/plain": "Output()",
            "application/vnd.jupyter.widget-view+json": {
              "version_major": 2,
              "version_minor": 0,
              "model_id": "b23716226eb0479ea761e6f79bdbea73"
            }
          },
          "metadata": {}
        }
      ]
    }
  ]
}